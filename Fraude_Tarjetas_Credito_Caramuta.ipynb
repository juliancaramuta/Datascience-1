{
  "nbformat": 4,
  "nbformat_minor": 0,
  "metadata": {
    "colab": {
      "provenance": [],
      "authorship_tag": "ABX9TyOUhynyRBl9em8aNSEKorH7",
      "include_colab_link": true
    },
    "kernelspec": {
      "name": "python3",
      "display_name": "Python 3"
    },
    "language_info": {
      "name": "python"
    }
  },
  "cells": [
    {
      "cell_type": "markdown",
      "metadata": {
        "id": "view-in-github",
        "colab_type": "text"
      },
      "source": [
        "<a href=\"https://colab.research.google.com/github/juliancaramuta/Datascience-1/blob/main/Fraude_Tarjetas_Credito_Caramuta.ipynb\" target=\"_parent\"><img src=\"https://colab.research.google.com/assets/colab-badge.svg\" alt=\"Open In Colab\"/></a>"
      ]
    },
    {
      "cell_type": "code",
      "execution_count": null,
      "metadata": {
        "id": "qzUY1FFz9OHn"
      },
      "outputs": [],
      "source": []
    },
    {
      "cell_type": "markdown",
      "source": [
        "# **Introduccion**\n",
        "\n",
        "\n",
        "\n",
        "\n",
        "\n",
        "\n"
      ],
      "metadata": {
        "id": "SpNtw1HI9aCX"
      }
    },
    {
      "cell_type": "markdown",
      "source": [
        "\n",
        "Para el presente trabajo se trajo información de distintas transacciones realizadas dentro del periodo 2019-2020 en Estados Unidos, en distintos rubros como centros de educación, comercios, gimnasios, etc. Y también nos informa en que zonas se realizaron estas transacciones y si fue una persona de sexo masculino o femenino.\n",
        "\n",
        "Fuente\n",
        "\n",
        "Los datos utilizados en este trabajo fueron obtenidos de Kaggle y se encuentran disponibles en el siguiente enlace: https://www.kaggle.com/datasets/priyamchoksi/credit-card-transactions-dataset\n",
        "\n",
        "Este conjunto de datos proporciona informacion (fecha de transaccion, numero de tarjeta de credito, comercio, categoria, cliente, trabajo del cliente, genero del cliente)\n",
        "\n"
      ],
      "metadata": {
        "id": "XPy1LOZkJpqb"
      }
    },
    {
      "cell_type": "code",
      "source": [
        "from google.colab import drive\n",
        "drive.mount('/content/drive')"
      ],
      "metadata": {
        "colab": {
          "base_uri": "https://localhost:8080/"
        },
        "id": "Cd_Xz7mnIouG",
        "outputId": "4310bfa5-2466-406b-fdf9-f141aa10a613"
      },
      "execution_count": null,
      "outputs": [
        {
          "output_type": "stream",
          "name": "stdout",
          "text": [
            "Drive already mounted at /content/drive; to attempt to forcibly remount, call drive.mount(\"/content/drive\", force_remount=True).\n"
          ]
        }
      ]
    },
    {
      "cell_type": "markdown",
      "source": [
        "#Carga de la Libreria y Datos\n"
      ],
      "metadata": {
        "id": "-auiJdMtCge-"
      }
    },
    {
      "cell_type": "code",
      "source": [
        "import pandas as pd\n",
        "import numpy as np\n",
        "import matplotlib.pyplot as plt\n",
        "import seaborn as sns\n",
        "\n",
        "df = pd.read_excel(\"/content/drive/MyDrive/Data Science 1/Fraudes con tarjetas de credito Original.xlsx\")\n",
        "df.head(15)\n"
      ],
      "metadata": {
        "colab": {
          "base_uri": "https://localhost:8080/",
          "height": 1000
        },
        "id": "NkZ_ex5FCq0r",
        "outputId": "0582f85f-793c-498b-e7be-1722525ce229"
      },
      "execution_count": null,
      "outputs": [
        {
          "output_type": "execute_result",
          "data": {
            "text/plain": [
              "     Fecha Transaccion    Numero Tarjeta                             Mercado  \\\n",
              "0  2019-01-01 00:00:18  2703186189652090          fraud_Rippin, Kub and Mann   \n",
              "1  2019-01-01 00:00:44      630423337322     fraud_Heller, Gutmann and Zieme   \n",
              "2  2019-01-01 00:00:51    38859492057661                fraud_Lind-Buckridge   \n",
              "3  2019-01-01 00:01:16  3534093764340240  fraud_Kutch, Hermiston and Farrell   \n",
              "4  2019-01-01 00:03:06   375534208663984                 fraud_Keeling-Crist   \n",
              "5  2019-01-01 00:04:08  4767265376804500    fraud_Stroman, Hudson and Erdman   \n",
              "6  2019-01-01 00:04:42    30074693890476               fraud_Rowe-Vandervort   \n",
              "7  2019-01-01 00:05:08  6011360759745860                fraud_Corwin-Collins   \n",
              "8  2019-01-01 00:05:18  4922710831011200                    fraud_Herzog Ltd   \n",
              "9  2019-01-01 00:06:01  2720830304681670   fraud_Schoen, Kuphal and Nitzsche   \n",
              "10 2019-01-01 00:06:23     4642894980163              fraud_Rutherford-Mertz   \n",
              "11 2019-01-01 00:06:53   377234009633447               fraud_Kerluke-Abshire   \n",
              "12 2019-01-01 00:06:56   180042946491150                   fraud_Lockman Ltd   \n",
              "13 2019-01-01 00:07:27  5559857416065240                     fraud_Kiehn Inc   \n",
              "14 2019-01-01 00:09:03  3514865930894690                   fraud_Beier-Hyatt   \n",
              "\n",
              "        Categoria  Importe       Nombre   Apellido Genero  \\\n",
              "0        misc_net     4.97     Jennifer      Banks      F   \n",
              "1     grocery_pos   107.23    Stephanie       Gill      F   \n",
              "2   entertainment   220.11       Edward    Sanchez      M   \n",
              "3   gas_transport    45.00       Jeremy      White      M   \n",
              "4        misc_pos    41.96        Tyler     Garcia      M   \n",
              "5   gas_transport    94.63     Jennifer     Conner      F   \n",
              "6     grocery_net    44.54       Kelsey   Richards      F   \n",
              "7   gas_transport    71.65       Steven   Williams      M   \n",
              "8        misc_pos     4.27      Heather      Chase      F   \n",
              "9     grocery_pos   198.39      Melissa    Aguilar      F   \n",
              "10    grocery_pos    24.74        Eddie     Mendez      M   \n",
              "11   shopping_net     7.77      Theresa  Blackwell      F   \n",
              "12    grocery_pos    71.22      Charles     Robles      M   \n",
              "13    grocery_pos    96.29         Jack       Hill      M   \n",
              "14   shopping_pos     7.77  Christopher  Castaneda      M   \n",
              "\n",
              "                     Calle Cliente                    Ciudad  ...  \\\n",
              "0                   561 Perry Cove            Moravian Falls  ...   \n",
              "1     43039 Riley Greens Suite 393                    Orient  ...   \n",
              "2         594 White Dale Suite 530                Malad City  ...   \n",
              "3      9443 Cynthia Court Apt. 038                   Boulder  ...   \n",
              "4                 408 Bradley Rest                  Doe Hill  ...   \n",
              "5                4655 David Island                    Dublin  ...   \n",
              "6      889 Sarah Station Suite 624                   Holcomb  ...   \n",
              "7        231 Flores Pass Suite 720                  Edinburg  ...   \n",
              "8      6888 Hicks Stream Suite 954                     Manor  ...   \n",
              "9   21326 Taylor Squares Suite 708               Clarksville  ...   \n",
              "10       1831 Faith View Suite 653                  Clarinda  ...   \n",
              "11          43576 Kristina Islands       Shenandoah Junction  ...   \n",
              "12                3337 Lisa Divide          Saint Petersburg  ...   \n",
              "13      5916 Susan Bridge Apt. 939                   Grenada  ...   \n",
              "14      1632 Cohen Drive Suite 639  High Rolls Mountain Park  ...   \n",
              "\n",
              "   Codigo Postal   Latitud      Longitud  Ciudad POP  \\\n",
              "0          28654  360788.0 -8.117810e+05        3495   \n",
              "1          99160  488878.0 -1.182105e+06         149   \n",
              "2          83252  421808.0 -1.122620e+05        4154   \n",
              "3          59632  462306.0 -1.121138e+06        1939   \n",
              "4          24433  384207.0 -7.946290e+05          99   \n",
              "5          18917   40375.0 -7.520450e+05        2158   \n",
              "6          67851  379931.0 -1.009893e+06        2691   \n",
              "7          22824  388432.0 -7.860030e+05        6018   \n",
              "8          15665  403359.0 -7.966070e+05        1472   \n",
              "9          37040   36522.0 -8.734900e+15      151785   \n",
              "10         51632  407491.0 -9.503800e+04        7297   \n",
              "11         25442  393716.0 -7.782290e+05        1925   \n",
              "12         33710  277898.0 -8.272430e+05      341043   \n",
              "13         96038  416125.0 -1.225258e+06         589   \n",
              "14         88325  329396.0 -1.058189e+06         899   \n",
              "\n",
              "                      Trabajo Cliente Fecha de nacimiento  \\\n",
              "0           Psychologist, counselling          1988-03-09   \n",
              "1   Special educational needs teacher          1978-06-21   \n",
              "2         Nature conservation officer          1962-01-19   \n",
              "3                     Patent attorney          1967-01-12   \n",
              "4      Dance movement psychotherapist          1986-03-28   \n",
              "5                   Transport planner          1961-06-19   \n",
              "6                     Arboriculturist          1993-08-16   \n",
              "7                Designer, multimedia          1947-08-21   \n",
              "8           Public affairs consultant          1941-03-07   \n",
              "9                         Pathologist          1974-03-28   \n",
              "10                         IT trainer          1990-07-13   \n",
              "11                  Systems developer          1966-02-14   \n",
              "12                     Engineer, land          1989-02-28   \n",
              "13                    Systems analyst          1945-12-21   \n",
              "14                    Naval architect          1967-08-30   \n",
              "\n",
              "               Numero de transaccion Latitud del mercado  \\\n",
              "0   0b242abb623afc578575680df30655b9        3.601129e+07   \n",
              "1   1f76529f8574734946361c461b024d99        4.915905e+16   \n",
              "2   a1a22d70485983eac12b5b88dad1cf95        4.315070e+07   \n",
              "3   6b849c168bdad6f867558c3793159a81        4.703433e+07   \n",
              "4   a41d7549acf90789359a9aa5346dcb46        3.867500e+07   \n",
              "5   189a841a0a8ba03058526bcfe566aab5        4.065338e+07   \n",
              "6   83ec1cc84142af6e2acf10c44949e720        3.716270e+16   \n",
              "7   6d294ed2cc447d2c71c7171a3d54967c        3.894809e+07   \n",
              "8   fc28024ce480f8ef21a32d64c93a29f5        4.035181e+07   \n",
              "9   3b9014ea8fb80bd65de0b1463b00b00e        3.717920e+07   \n",
              "10  d71c95ab6b7356dd74389d41df429c87        4.027589e+16   \n",
              "11  3c74776e558f1499a7824b556e474b1d        4.010387e+07   \n",
              "12  c1d9a7ddb1e34639fe82758de97f4abf        2.763059e+07   \n",
              "13  413636e759663f264aae1819a4d4f231        4.165752e+06   \n",
              "14  8a6293af5ed278dea14448ded2685fea        3.286326e+07   \n",
              "\n",
              "    Longitud del mercado  Fraude  \n",
              "0          -8.204832e+07       0  \n",
              "1          -1.181865e+08       0  \n",
              "2          -1.121545e+08       0  \n",
              "3          -1.125611e+08       0  \n",
              "4          -7.863246e+07       0  \n",
              "5          -7.615267e+15       0  \n",
              "6          -1.001534e+07       0  \n",
              "7          -7.854030e+07       0  \n",
              "8          -7.995815e+07       0  \n",
              "9          -8.748538e+07       0  \n",
              "10         -9.601155e+07       0  \n",
              "11         -7.862446e+07       0  \n",
              "12         -8.230889e+07       0  \n",
              "13         -1.222303e+08       0  \n",
              "14         -1.065202e+08       0  \n",
              "\n",
              "[15 rows x 21 columns]"
            ],
            "text/html": [
              "\n",
              "  <div id=\"df-8a0be53d-a288-48b4-bb78-bbc557cb45ba\" class=\"colab-df-container\">\n",
              "    <div>\n",
              "<style scoped>\n",
              "    .dataframe tbody tr th:only-of-type {\n",
              "        vertical-align: middle;\n",
              "    }\n",
              "\n",
              "    .dataframe tbody tr th {\n",
              "        vertical-align: top;\n",
              "    }\n",
              "\n",
              "    .dataframe thead th {\n",
              "        text-align: right;\n",
              "    }\n",
              "</style>\n",
              "<table border=\"1\" class=\"dataframe\">\n",
              "  <thead>\n",
              "    <tr style=\"text-align: right;\">\n",
              "      <th></th>\n",
              "      <th>Fecha Transaccion</th>\n",
              "      <th>Numero Tarjeta</th>\n",
              "      <th>Mercado</th>\n",
              "      <th>Categoria</th>\n",
              "      <th>Importe</th>\n",
              "      <th>Nombre</th>\n",
              "      <th>Apellido</th>\n",
              "      <th>Genero</th>\n",
              "      <th>Calle Cliente</th>\n",
              "      <th>Ciudad</th>\n",
              "      <th>...</th>\n",
              "      <th>Codigo Postal</th>\n",
              "      <th>Latitud</th>\n",
              "      <th>Longitud</th>\n",
              "      <th>Ciudad POP</th>\n",
              "      <th>Trabajo Cliente</th>\n",
              "      <th>Fecha de nacimiento</th>\n",
              "      <th>Numero de transaccion</th>\n",
              "      <th>Latitud del mercado</th>\n",
              "      <th>Longitud del mercado</th>\n",
              "      <th>Fraude</th>\n",
              "    </tr>\n",
              "  </thead>\n",
              "  <tbody>\n",
              "    <tr>\n",
              "      <th>0</th>\n",
              "      <td>2019-01-01 00:00:18</td>\n",
              "      <td>2703186189652090</td>\n",
              "      <td>fraud_Rippin, Kub and Mann</td>\n",
              "      <td>misc_net</td>\n",
              "      <td>4.97</td>\n",
              "      <td>Jennifer</td>\n",
              "      <td>Banks</td>\n",
              "      <td>F</td>\n",
              "      <td>561 Perry Cove</td>\n",
              "      <td>Moravian Falls</td>\n",
              "      <td>...</td>\n",
              "      <td>28654</td>\n",
              "      <td>360788.0</td>\n",
              "      <td>-8.117810e+05</td>\n",
              "      <td>3495</td>\n",
              "      <td>Psychologist, counselling</td>\n",
              "      <td>1988-03-09</td>\n",
              "      <td>0b242abb623afc578575680df30655b9</td>\n",
              "      <td>3.601129e+07</td>\n",
              "      <td>-8.204832e+07</td>\n",
              "      <td>0</td>\n",
              "    </tr>\n",
              "    <tr>\n",
              "      <th>1</th>\n",
              "      <td>2019-01-01 00:00:44</td>\n",
              "      <td>630423337322</td>\n",
              "      <td>fraud_Heller, Gutmann and Zieme</td>\n",
              "      <td>grocery_pos</td>\n",
              "      <td>107.23</td>\n",
              "      <td>Stephanie</td>\n",
              "      <td>Gill</td>\n",
              "      <td>F</td>\n",
              "      <td>43039 Riley Greens Suite 393</td>\n",
              "      <td>Orient</td>\n",
              "      <td>...</td>\n",
              "      <td>99160</td>\n",
              "      <td>488878.0</td>\n",
              "      <td>-1.182105e+06</td>\n",
              "      <td>149</td>\n",
              "      <td>Special educational needs teacher</td>\n",
              "      <td>1978-06-21</td>\n",
              "      <td>1f76529f8574734946361c461b024d99</td>\n",
              "      <td>4.915905e+16</td>\n",
              "      <td>-1.181865e+08</td>\n",
              "      <td>0</td>\n",
              "    </tr>\n",
              "    <tr>\n",
              "      <th>2</th>\n",
              "      <td>2019-01-01 00:00:51</td>\n",
              "      <td>38859492057661</td>\n",
              "      <td>fraud_Lind-Buckridge</td>\n",
              "      <td>entertainment</td>\n",
              "      <td>220.11</td>\n",
              "      <td>Edward</td>\n",
              "      <td>Sanchez</td>\n",
              "      <td>M</td>\n",
              "      <td>594 White Dale Suite 530</td>\n",
              "      <td>Malad City</td>\n",
              "      <td>...</td>\n",
              "      <td>83252</td>\n",
              "      <td>421808.0</td>\n",
              "      <td>-1.122620e+05</td>\n",
              "      <td>4154</td>\n",
              "      <td>Nature conservation officer</td>\n",
              "      <td>1962-01-19</td>\n",
              "      <td>a1a22d70485983eac12b5b88dad1cf95</td>\n",
              "      <td>4.315070e+07</td>\n",
              "      <td>-1.121545e+08</td>\n",
              "      <td>0</td>\n",
              "    </tr>\n",
              "    <tr>\n",
              "      <th>3</th>\n",
              "      <td>2019-01-01 00:01:16</td>\n",
              "      <td>3534093764340240</td>\n",
              "      <td>fraud_Kutch, Hermiston and Farrell</td>\n",
              "      <td>gas_transport</td>\n",
              "      <td>45.00</td>\n",
              "      <td>Jeremy</td>\n",
              "      <td>White</td>\n",
              "      <td>M</td>\n",
              "      <td>9443 Cynthia Court Apt. 038</td>\n",
              "      <td>Boulder</td>\n",
              "      <td>...</td>\n",
              "      <td>59632</td>\n",
              "      <td>462306.0</td>\n",
              "      <td>-1.121138e+06</td>\n",
              "      <td>1939</td>\n",
              "      <td>Patent attorney</td>\n",
              "      <td>1967-01-12</td>\n",
              "      <td>6b849c168bdad6f867558c3793159a81</td>\n",
              "      <td>4.703433e+07</td>\n",
              "      <td>-1.125611e+08</td>\n",
              "      <td>0</td>\n",
              "    </tr>\n",
              "    <tr>\n",
              "      <th>4</th>\n",
              "      <td>2019-01-01 00:03:06</td>\n",
              "      <td>375534208663984</td>\n",
              "      <td>fraud_Keeling-Crist</td>\n",
              "      <td>misc_pos</td>\n",
              "      <td>41.96</td>\n",
              "      <td>Tyler</td>\n",
              "      <td>Garcia</td>\n",
              "      <td>M</td>\n",
              "      <td>408 Bradley Rest</td>\n",
              "      <td>Doe Hill</td>\n",
              "      <td>...</td>\n",
              "      <td>24433</td>\n",
              "      <td>384207.0</td>\n",
              "      <td>-7.946290e+05</td>\n",
              "      <td>99</td>\n",
              "      <td>Dance movement psychotherapist</td>\n",
              "      <td>1986-03-28</td>\n",
              "      <td>a41d7549acf90789359a9aa5346dcb46</td>\n",
              "      <td>3.867500e+07</td>\n",
              "      <td>-7.863246e+07</td>\n",
              "      <td>0</td>\n",
              "    </tr>\n",
              "    <tr>\n",
              "      <th>5</th>\n",
              "      <td>2019-01-01 00:04:08</td>\n",
              "      <td>4767265376804500</td>\n",
              "      <td>fraud_Stroman, Hudson and Erdman</td>\n",
              "      <td>gas_transport</td>\n",
              "      <td>94.63</td>\n",
              "      <td>Jennifer</td>\n",
              "      <td>Conner</td>\n",
              "      <td>F</td>\n",
              "      <td>4655 David Island</td>\n",
              "      <td>Dublin</td>\n",
              "      <td>...</td>\n",
              "      <td>18917</td>\n",
              "      <td>40375.0</td>\n",
              "      <td>-7.520450e+05</td>\n",
              "      <td>2158</td>\n",
              "      <td>Transport planner</td>\n",
              "      <td>1961-06-19</td>\n",
              "      <td>189a841a0a8ba03058526bcfe566aab5</td>\n",
              "      <td>4.065338e+07</td>\n",
              "      <td>-7.615267e+15</td>\n",
              "      <td>0</td>\n",
              "    </tr>\n",
              "    <tr>\n",
              "      <th>6</th>\n",
              "      <td>2019-01-01 00:04:42</td>\n",
              "      <td>30074693890476</td>\n",
              "      <td>fraud_Rowe-Vandervort</td>\n",
              "      <td>grocery_net</td>\n",
              "      <td>44.54</td>\n",
              "      <td>Kelsey</td>\n",
              "      <td>Richards</td>\n",
              "      <td>F</td>\n",
              "      <td>889 Sarah Station Suite 624</td>\n",
              "      <td>Holcomb</td>\n",
              "      <td>...</td>\n",
              "      <td>67851</td>\n",
              "      <td>379931.0</td>\n",
              "      <td>-1.009893e+06</td>\n",
              "      <td>2691</td>\n",
              "      <td>Arboriculturist</td>\n",
              "      <td>1993-08-16</td>\n",
              "      <td>83ec1cc84142af6e2acf10c44949e720</td>\n",
              "      <td>3.716270e+16</td>\n",
              "      <td>-1.001534e+07</td>\n",
              "      <td>0</td>\n",
              "    </tr>\n",
              "    <tr>\n",
              "      <th>7</th>\n",
              "      <td>2019-01-01 00:05:08</td>\n",
              "      <td>6011360759745860</td>\n",
              "      <td>fraud_Corwin-Collins</td>\n",
              "      <td>gas_transport</td>\n",
              "      <td>71.65</td>\n",
              "      <td>Steven</td>\n",
              "      <td>Williams</td>\n",
              "      <td>M</td>\n",
              "      <td>231 Flores Pass Suite 720</td>\n",
              "      <td>Edinburg</td>\n",
              "      <td>...</td>\n",
              "      <td>22824</td>\n",
              "      <td>388432.0</td>\n",
              "      <td>-7.860030e+05</td>\n",
              "      <td>6018</td>\n",
              "      <td>Designer, multimedia</td>\n",
              "      <td>1947-08-21</td>\n",
              "      <td>6d294ed2cc447d2c71c7171a3d54967c</td>\n",
              "      <td>3.894809e+07</td>\n",
              "      <td>-7.854030e+07</td>\n",
              "      <td>0</td>\n",
              "    </tr>\n",
              "    <tr>\n",
              "      <th>8</th>\n",
              "      <td>2019-01-01 00:05:18</td>\n",
              "      <td>4922710831011200</td>\n",
              "      <td>fraud_Herzog Ltd</td>\n",
              "      <td>misc_pos</td>\n",
              "      <td>4.27</td>\n",
              "      <td>Heather</td>\n",
              "      <td>Chase</td>\n",
              "      <td>F</td>\n",
              "      <td>6888 Hicks Stream Suite 954</td>\n",
              "      <td>Manor</td>\n",
              "      <td>...</td>\n",
              "      <td>15665</td>\n",
              "      <td>403359.0</td>\n",
              "      <td>-7.966070e+05</td>\n",
              "      <td>1472</td>\n",
              "      <td>Public affairs consultant</td>\n",
              "      <td>1941-03-07</td>\n",
              "      <td>fc28024ce480f8ef21a32d64c93a29f5</td>\n",
              "      <td>4.035181e+07</td>\n",
              "      <td>-7.995815e+07</td>\n",
              "      <td>0</td>\n",
              "    </tr>\n",
              "    <tr>\n",
              "      <th>9</th>\n",
              "      <td>2019-01-01 00:06:01</td>\n",
              "      <td>2720830304681670</td>\n",
              "      <td>fraud_Schoen, Kuphal and Nitzsche</td>\n",
              "      <td>grocery_pos</td>\n",
              "      <td>198.39</td>\n",
              "      <td>Melissa</td>\n",
              "      <td>Aguilar</td>\n",
              "      <td>F</td>\n",
              "      <td>21326 Taylor Squares Suite 708</td>\n",
              "      <td>Clarksville</td>\n",
              "      <td>...</td>\n",
              "      <td>37040</td>\n",
              "      <td>36522.0</td>\n",
              "      <td>-8.734900e+15</td>\n",
              "      <td>151785</td>\n",
              "      <td>Pathologist</td>\n",
              "      <td>1974-03-28</td>\n",
              "      <td>3b9014ea8fb80bd65de0b1463b00b00e</td>\n",
              "      <td>3.717920e+07</td>\n",
              "      <td>-8.748538e+07</td>\n",
              "      <td>0</td>\n",
              "    </tr>\n",
              "    <tr>\n",
              "      <th>10</th>\n",
              "      <td>2019-01-01 00:06:23</td>\n",
              "      <td>4642894980163</td>\n",
              "      <td>fraud_Rutherford-Mertz</td>\n",
              "      <td>grocery_pos</td>\n",
              "      <td>24.74</td>\n",
              "      <td>Eddie</td>\n",
              "      <td>Mendez</td>\n",
              "      <td>M</td>\n",
              "      <td>1831 Faith View Suite 653</td>\n",
              "      <td>Clarinda</td>\n",
              "      <td>...</td>\n",
              "      <td>51632</td>\n",
              "      <td>407491.0</td>\n",
              "      <td>-9.503800e+04</td>\n",
              "      <td>7297</td>\n",
              "      <td>IT trainer</td>\n",
              "      <td>1990-07-13</td>\n",
              "      <td>d71c95ab6b7356dd74389d41df429c87</td>\n",
              "      <td>4.027589e+16</td>\n",
              "      <td>-9.601155e+07</td>\n",
              "      <td>0</td>\n",
              "    </tr>\n",
              "    <tr>\n",
              "      <th>11</th>\n",
              "      <td>2019-01-01 00:06:53</td>\n",
              "      <td>377234009633447</td>\n",
              "      <td>fraud_Kerluke-Abshire</td>\n",
              "      <td>shopping_net</td>\n",
              "      <td>7.77</td>\n",
              "      <td>Theresa</td>\n",
              "      <td>Blackwell</td>\n",
              "      <td>F</td>\n",
              "      <td>43576 Kristina Islands</td>\n",
              "      <td>Shenandoah Junction</td>\n",
              "      <td>...</td>\n",
              "      <td>25442</td>\n",
              "      <td>393716.0</td>\n",
              "      <td>-7.782290e+05</td>\n",
              "      <td>1925</td>\n",
              "      <td>Systems developer</td>\n",
              "      <td>1966-02-14</td>\n",
              "      <td>3c74776e558f1499a7824b556e474b1d</td>\n",
              "      <td>4.010387e+07</td>\n",
              "      <td>-7.862446e+07</td>\n",
              "      <td>0</td>\n",
              "    </tr>\n",
              "    <tr>\n",
              "      <th>12</th>\n",
              "      <td>2019-01-01 00:06:56</td>\n",
              "      <td>180042946491150</td>\n",
              "      <td>fraud_Lockman Ltd</td>\n",
              "      <td>grocery_pos</td>\n",
              "      <td>71.22</td>\n",
              "      <td>Charles</td>\n",
              "      <td>Robles</td>\n",
              "      <td>M</td>\n",
              "      <td>3337 Lisa Divide</td>\n",
              "      <td>Saint Petersburg</td>\n",
              "      <td>...</td>\n",
              "      <td>33710</td>\n",
              "      <td>277898.0</td>\n",
              "      <td>-8.272430e+05</td>\n",
              "      <td>341043</td>\n",
              "      <td>Engineer, land</td>\n",
              "      <td>1989-02-28</td>\n",
              "      <td>c1d9a7ddb1e34639fe82758de97f4abf</td>\n",
              "      <td>2.763059e+07</td>\n",
              "      <td>-8.230889e+07</td>\n",
              "      <td>0</td>\n",
              "    </tr>\n",
              "    <tr>\n",
              "      <th>13</th>\n",
              "      <td>2019-01-01 00:07:27</td>\n",
              "      <td>5559857416065240</td>\n",
              "      <td>fraud_Kiehn Inc</td>\n",
              "      <td>grocery_pos</td>\n",
              "      <td>96.29</td>\n",
              "      <td>Jack</td>\n",
              "      <td>Hill</td>\n",
              "      <td>M</td>\n",
              "      <td>5916 Susan Bridge Apt. 939</td>\n",
              "      <td>Grenada</td>\n",
              "      <td>...</td>\n",
              "      <td>96038</td>\n",
              "      <td>416125.0</td>\n",
              "      <td>-1.225258e+06</td>\n",
              "      <td>589</td>\n",
              "      <td>Systems analyst</td>\n",
              "      <td>1945-12-21</td>\n",
              "      <td>413636e759663f264aae1819a4d4f231</td>\n",
              "      <td>4.165752e+06</td>\n",
              "      <td>-1.222303e+08</td>\n",
              "      <td>0</td>\n",
              "    </tr>\n",
              "    <tr>\n",
              "      <th>14</th>\n",
              "      <td>2019-01-01 00:09:03</td>\n",
              "      <td>3514865930894690</td>\n",
              "      <td>fraud_Beier-Hyatt</td>\n",
              "      <td>shopping_pos</td>\n",
              "      <td>7.77</td>\n",
              "      <td>Christopher</td>\n",
              "      <td>Castaneda</td>\n",
              "      <td>M</td>\n",
              "      <td>1632 Cohen Drive Suite 639</td>\n",
              "      <td>High Rolls Mountain Park</td>\n",
              "      <td>...</td>\n",
              "      <td>88325</td>\n",
              "      <td>329396.0</td>\n",
              "      <td>-1.058189e+06</td>\n",
              "      <td>899</td>\n",
              "      <td>Naval architect</td>\n",
              "      <td>1967-08-30</td>\n",
              "      <td>8a6293af5ed278dea14448ded2685fea</td>\n",
              "      <td>3.286326e+07</td>\n",
              "      <td>-1.065202e+08</td>\n",
              "      <td>0</td>\n",
              "    </tr>\n",
              "  </tbody>\n",
              "</table>\n",
              "<p>15 rows × 21 columns</p>\n",
              "</div>\n",
              "    <div class=\"colab-df-buttons\">\n",
              "\n",
              "  <div class=\"colab-df-container\">\n",
              "    <button class=\"colab-df-convert\" onclick=\"convertToInteractive('df-8a0be53d-a288-48b4-bb78-bbc557cb45ba')\"\n",
              "            title=\"Convert this dataframe to an interactive table.\"\n",
              "            style=\"display:none;\">\n",
              "\n",
              "  <svg xmlns=\"http://www.w3.org/2000/svg\" height=\"24px\" viewBox=\"0 -960 960 960\">\n",
              "    <path d=\"M120-120v-720h720v720H120Zm60-500h600v-160H180v160Zm220 220h160v-160H400v160Zm0 220h160v-160H400v160ZM180-400h160v-160H180v160Zm440 0h160v-160H620v160ZM180-180h160v-160H180v160Zm440 0h160v-160H620v160Z\"/>\n",
              "  </svg>\n",
              "    </button>\n",
              "\n",
              "  <style>\n",
              "    .colab-df-container {\n",
              "      display:flex;\n",
              "      gap: 12px;\n",
              "    }\n",
              "\n",
              "    .colab-df-convert {\n",
              "      background-color: #E8F0FE;\n",
              "      border: none;\n",
              "      border-radius: 50%;\n",
              "      cursor: pointer;\n",
              "      display: none;\n",
              "      fill: #1967D2;\n",
              "      height: 32px;\n",
              "      padding: 0 0 0 0;\n",
              "      width: 32px;\n",
              "    }\n",
              "\n",
              "    .colab-df-convert:hover {\n",
              "      background-color: #E2EBFA;\n",
              "      box-shadow: 0px 1px 2px rgba(60, 64, 67, 0.3), 0px 1px 3px 1px rgba(60, 64, 67, 0.15);\n",
              "      fill: #174EA6;\n",
              "    }\n",
              "\n",
              "    .colab-df-buttons div {\n",
              "      margin-bottom: 4px;\n",
              "    }\n",
              "\n",
              "    [theme=dark] .colab-df-convert {\n",
              "      background-color: #3B4455;\n",
              "      fill: #D2E3FC;\n",
              "    }\n",
              "\n",
              "    [theme=dark] .colab-df-convert:hover {\n",
              "      background-color: #434B5C;\n",
              "      box-shadow: 0px 1px 3px 1px rgba(0, 0, 0, 0.15);\n",
              "      filter: drop-shadow(0px 1px 2px rgba(0, 0, 0, 0.3));\n",
              "      fill: #FFFFFF;\n",
              "    }\n",
              "  </style>\n",
              "\n",
              "    <script>\n",
              "      const buttonEl =\n",
              "        document.querySelector('#df-8a0be53d-a288-48b4-bb78-bbc557cb45ba button.colab-df-convert');\n",
              "      buttonEl.style.display =\n",
              "        google.colab.kernel.accessAllowed ? 'block' : 'none';\n",
              "\n",
              "      async function convertToInteractive(key) {\n",
              "        const element = document.querySelector('#df-8a0be53d-a288-48b4-bb78-bbc557cb45ba');\n",
              "        const dataTable =\n",
              "          await google.colab.kernel.invokeFunction('convertToInteractive',\n",
              "                                                    [key], {});\n",
              "        if (!dataTable) return;\n",
              "\n",
              "        const docLinkHtml = 'Like what you see? Visit the ' +\n",
              "          '<a target=\"_blank\" href=https://colab.research.google.com/notebooks/data_table.ipynb>data table notebook</a>'\n",
              "          + ' to learn more about interactive tables.';\n",
              "        element.innerHTML = '';\n",
              "        dataTable['output_type'] = 'display_data';\n",
              "        await google.colab.output.renderOutput(dataTable, element);\n",
              "        const docLink = document.createElement('div');\n",
              "        docLink.innerHTML = docLinkHtml;\n",
              "        element.appendChild(docLink);\n",
              "      }\n",
              "    </script>\n",
              "  </div>\n",
              "\n",
              "\n",
              "<div id=\"df-6aada0a0-1a21-493f-a794-b6809493a5b4\">\n",
              "  <button class=\"colab-df-quickchart\" onclick=\"quickchart('df-6aada0a0-1a21-493f-a794-b6809493a5b4')\"\n",
              "            title=\"Suggest charts\"\n",
              "            style=\"display:none;\">\n",
              "\n",
              "<svg xmlns=\"http://www.w3.org/2000/svg\" height=\"24px\"viewBox=\"0 0 24 24\"\n",
              "     width=\"24px\">\n",
              "    <g>\n",
              "        <path d=\"M19 3H5c-1.1 0-2 .9-2 2v14c0 1.1.9 2 2 2h14c1.1 0 2-.9 2-2V5c0-1.1-.9-2-2-2zM9 17H7v-7h2v7zm4 0h-2V7h2v10zm4 0h-2v-4h2v4z\"/>\n",
              "    </g>\n",
              "</svg>\n",
              "  </button>\n",
              "\n",
              "<style>\n",
              "  .colab-df-quickchart {\n",
              "      --bg-color: #E8F0FE;\n",
              "      --fill-color: #1967D2;\n",
              "      --hover-bg-color: #E2EBFA;\n",
              "      --hover-fill-color: #174EA6;\n",
              "      --disabled-fill-color: #AAA;\n",
              "      --disabled-bg-color: #DDD;\n",
              "  }\n",
              "\n",
              "  [theme=dark] .colab-df-quickchart {\n",
              "      --bg-color: #3B4455;\n",
              "      --fill-color: #D2E3FC;\n",
              "      --hover-bg-color: #434B5C;\n",
              "      --hover-fill-color: #FFFFFF;\n",
              "      --disabled-bg-color: #3B4455;\n",
              "      --disabled-fill-color: #666;\n",
              "  }\n",
              "\n",
              "  .colab-df-quickchart {\n",
              "    background-color: var(--bg-color);\n",
              "    border: none;\n",
              "    border-radius: 50%;\n",
              "    cursor: pointer;\n",
              "    display: none;\n",
              "    fill: var(--fill-color);\n",
              "    height: 32px;\n",
              "    padding: 0;\n",
              "    width: 32px;\n",
              "  }\n",
              "\n",
              "  .colab-df-quickchart:hover {\n",
              "    background-color: var(--hover-bg-color);\n",
              "    box-shadow: 0 1px 2px rgba(60, 64, 67, 0.3), 0 1px 3px 1px rgba(60, 64, 67, 0.15);\n",
              "    fill: var(--button-hover-fill-color);\n",
              "  }\n",
              "\n",
              "  .colab-df-quickchart-complete:disabled,\n",
              "  .colab-df-quickchart-complete:disabled:hover {\n",
              "    background-color: var(--disabled-bg-color);\n",
              "    fill: var(--disabled-fill-color);\n",
              "    box-shadow: none;\n",
              "  }\n",
              "\n",
              "  .colab-df-spinner {\n",
              "    border: 2px solid var(--fill-color);\n",
              "    border-color: transparent;\n",
              "    border-bottom-color: var(--fill-color);\n",
              "    animation:\n",
              "      spin 1s steps(1) infinite;\n",
              "  }\n",
              "\n",
              "  @keyframes spin {\n",
              "    0% {\n",
              "      border-color: transparent;\n",
              "      border-bottom-color: var(--fill-color);\n",
              "      border-left-color: var(--fill-color);\n",
              "    }\n",
              "    20% {\n",
              "      border-color: transparent;\n",
              "      border-left-color: var(--fill-color);\n",
              "      border-top-color: var(--fill-color);\n",
              "    }\n",
              "    30% {\n",
              "      border-color: transparent;\n",
              "      border-left-color: var(--fill-color);\n",
              "      border-top-color: var(--fill-color);\n",
              "      border-right-color: var(--fill-color);\n",
              "    }\n",
              "    40% {\n",
              "      border-color: transparent;\n",
              "      border-right-color: var(--fill-color);\n",
              "      border-top-color: var(--fill-color);\n",
              "    }\n",
              "    60% {\n",
              "      border-color: transparent;\n",
              "      border-right-color: var(--fill-color);\n",
              "    }\n",
              "    80% {\n",
              "      border-color: transparent;\n",
              "      border-right-color: var(--fill-color);\n",
              "      border-bottom-color: var(--fill-color);\n",
              "    }\n",
              "    90% {\n",
              "      border-color: transparent;\n",
              "      border-bottom-color: var(--fill-color);\n",
              "    }\n",
              "  }\n",
              "</style>\n",
              "\n",
              "  <script>\n",
              "    async function quickchart(key) {\n",
              "      const quickchartButtonEl =\n",
              "        document.querySelector('#' + key + ' button');\n",
              "      quickchartButtonEl.disabled = true;  // To prevent multiple clicks.\n",
              "      quickchartButtonEl.classList.add('colab-df-spinner');\n",
              "      try {\n",
              "        const charts = await google.colab.kernel.invokeFunction(\n",
              "            'suggestCharts', [key], {});\n",
              "      } catch (error) {\n",
              "        console.error('Error during call to suggestCharts:', error);\n",
              "      }\n",
              "      quickchartButtonEl.classList.remove('colab-df-spinner');\n",
              "      quickchartButtonEl.classList.add('colab-df-quickchart-complete');\n",
              "    }\n",
              "    (() => {\n",
              "      let quickchartButtonEl =\n",
              "        document.querySelector('#df-6aada0a0-1a21-493f-a794-b6809493a5b4 button');\n",
              "      quickchartButtonEl.style.display =\n",
              "        google.colab.kernel.accessAllowed ? 'block' : 'none';\n",
              "    })();\n",
              "  </script>\n",
              "</div>\n",
              "\n",
              "    </div>\n",
              "  </div>\n"
            ],
            "application/vnd.google.colaboratory.intrinsic+json": {
              "type": "dataframe",
              "variable_name": "df"
            }
          },
          "metadata": {},
          "execution_count": 8
        }
      ]
    },
    {
      "cell_type": "markdown",
      "source": [
        "# Descripcion Dataset"
      ],
      "metadata": {
        "id": "2156ZvyVM7sw"
      }
    },
    {
      "cell_type": "code",
      "source": [
        "df.info()"
      ],
      "metadata": {
        "colab": {
          "base_uri": "https://localhost:8080/"
        },
        "id": "10hBjoTaN4sc",
        "outputId": "2298b895-fefe-48b2-f68e-d9046ce0b81b"
      },
      "execution_count": null,
      "outputs": [
        {
          "output_type": "stream",
          "name": "stdout",
          "text": [
            "<class 'pandas.core.frame.DataFrame'>\n",
            "RangeIndex: 1048575 entries, 0 to 1048574\n",
            "Data columns (total 21 columns):\n",
            " #   Column                 Non-Null Count    Dtype         \n",
            "---  ------                 --------------    -----         \n",
            " 0   Fecha Transaccion      1048575 non-null  datetime64[ns]\n",
            " 1   Numero Tarjeta         1048575 non-null  int64         \n",
            " 2   Mercado                1048575 non-null  object        \n",
            " 3   Categoria              1048575 non-null  object        \n",
            " 4   Importe                1048575 non-null  float64       \n",
            " 5   Nombre                 1048575 non-null  object        \n",
            " 6   Apellido               1048575 non-null  object        \n",
            " 7   Genero                 1048575 non-null  object        \n",
            " 8   Calle Cliente          1048575 non-null  object        \n",
            " 9   Ciudad                 1048575 non-null  object        \n",
            " 10  Estado                 1048575 non-null  object        \n",
            " 11  Codigo Postal          1048575 non-null  int64         \n",
            " 12  Latitud                1048575 non-null  float64       \n",
            " 13  Longitud               1048575 non-null  float64       \n",
            " 14  Ciudad POP             1048575 non-null  int64         \n",
            " 15  Trabajo Cliente        1048575 non-null  object        \n",
            " 16  Fecha de nacimiento    1048575 non-null  datetime64[ns]\n",
            " 17  Numero de transaccion  1048575 non-null  object        \n",
            " 18  Latitud del mercado    1048575 non-null  float64       \n",
            " 19  Longitud del mercado   1048575 non-null  float64       \n",
            " 20  Fraude                 1048575 non-null  int64         \n",
            "dtypes: datetime64[ns](2), float64(5), int64(4), object(10)\n",
            "memory usage: 168.0+ MB\n"
          ]
        }
      ]
    },
    {
      "cell_type": "markdown",
      "source": [
        "A continuación se encuentra una descripción de cada columna:\n",
        "\n",
        "0. Fecha Transaccion: Fecha en la que se realizo la transaccion (Compra - Venta)\n",
        "2. Numero Tarjeta: Numero de la tarjeta con la cual se hizo la transaccion\n",
        "3. Mercado: Comercio que realizo la venta\n",
        "4. Categoria: Que tipo de productos vende (Supermercado, Farmacia, Ropa, etc)\n",
        "5. Importe: Importe de la transaccion\n",
        "6. Nombre: Nombre del cliente\n",
        "7. Apellido: Apellido del cliente\n",
        "8. Genero: Si es masculino o femenino\n",
        "9. Calle Cliente: Calle donde vive el cliente\n",
        "10. Ciudad: Ciudad donde vive el cliente\n",
        "11. Estado: En que estado de los estados unidos vive el cliente\n",
        "12. Codigo Postal: Codigo postal de la ciudad donde vive el cliente\n",
        "13. Latitud: Latitud del cliente al momento de realizar la transaccion\n",
        "14. Longitud: Longitud del cliente al momento de realizar la transaccion\n",
        "15. Ciudad POP: Cantidad de personas que viven en esa ciudad\n",
        "16. Trabajo Cliente: De que trabaja el cliente\n",
        "17. Fecha de nacimiento: Fecha en la que nacio el cliente\n",
        "18. Numero de transaccion: Numero de transaccion o numero de compra/venta\n",
        "19. Latitud mercado\n",
        "20. Longitud mercado\n",
        "21. Fraude: si se realizo fraude (1) o no (0)\n",
        "\n",
        "\n",
        "\n",
        "\n"
      ],
      "metadata": {
        "id": "mEG6IbB8NBVW"
      }
    },
    {
      "cell_type": "markdown",
      "source": [
        "# Datos"
      ],
      "metadata": {
        "id": "gtJeBGqrVb6j"
      }
    },
    {
      "cell_type": "code",
      "source": [
        "# Cantidad de Datos\n",
        "len(df)"
      ],
      "metadata": {
        "colab": {
          "base_uri": "https://localhost:8080/"
        },
        "id": "uxi9cUXZVg90",
        "outputId": "c99ca051-cb10-4d34-9922-d37d62734633"
      },
      "execution_count": null,
      "outputs": [
        {
          "output_type": "execute_result",
          "data": {
            "text/plain": [
              "1048575"
            ]
          },
          "metadata": {},
          "execution_count": 10
        }
      ]
    },
    {
      "cell_type": "code",
      "source": [
        "df.describe()"
      ],
      "metadata": {
        "colab": {
          "base_uri": "https://localhost:8080/",
          "height": 442
        },
        "id": "pcUbh_O0b_nB",
        "outputId": "7dda77ae-5467-443d-c669-78075328cd94"
      },
      "execution_count": null,
      "outputs": [
        {
          "output_type": "execute_result",
          "data": {
            "text/plain": [
              "                   Fecha Transaccion  Numero Tarjeta       Importe  \\\n",
              "count                        1048575    1.048575e+06  1.048575e+06   \n",
              "mean   2019-08-14 03:47:51.826506496    4.171565e+17  7.027910e+01   \n",
              "min              2019-01-01 00:00:18    6.041621e+10  1.000000e+00   \n",
              "25%              2019-05-10 20:39:13    1.800400e+14  9.640000e+00   \n",
              "50%              2019-08-13 23:45:21    3.520550e+15  4.745000e+01   \n",
              "75%              2019-12-01 12:46:52    4.642255e+15  8.305000e+01   \n",
              "max              2020-03-10 16:08:50    4.992346e+18  2.894890e+04   \n",
              "std                              NaN    1.308811e+18  1.599518e+02   \n",
              "\n",
              "       Codigo Postal       Latitud      Longitud    Ciudad POP  \\\n",
              "count   1.048575e+06  1.048575e+06  1.048575e+06  1.048575e+06   \n",
              "mean    4.880159e+04  4.049055e+14 -1.223698e+14  8.905776e+04   \n",
              "min     1.257000e+03  2.806000e+01 -8.864400e+15  2.300000e+01   \n",
              "25%     2.623700e+04  3.354940e+05 -9.640920e+05  7.430000e+02   \n",
              "50%     4.817400e+04  3.889380e+05 -8.625550e+05  2.456000e+03   \n",
              "75%     7.204200e+04  4.166110e+05 -7.808920e+05  2.032800e+04   \n",
              "max     9.978300e+04  4.319600e+16 -7.310000e+01  2.906700e+06   \n",
              "std     2.689804e+04  3.809092e+15  9.947765e+14  3.024351e+05   \n",
              "\n",
              "                 Fecha de nacimiento  Latitud del mercado  \\\n",
              "count                        1048575         1.048575e+06   \n",
              "mean   1973-09-23 10:23:35.157141776         4.730170e+15   \n",
              "min              1924-10-30 00:00:00         2.758000e+01   \n",
              "25%              1962-08-13 00:00:00         3.431190e+07   \n",
              "50%              1975-10-11 00:00:00         3.984329e+07   \n",
              "75%              1987-02-14 00:00:00         4.349941e+07   \n",
              "max              2005-01-29 00:00:00         6.398484e+16   \n",
              "std                              NaN         1.246257e+16   \n",
              "\n",
              "       Longitud del mercado        Fraude  \n",
              "count          1.048575e+06  1.048575e+06  \n",
              "mean          -1.015528e+15  5.727773e-03  \n",
              "min           -1.666256e+16  0.000000e+00  \n",
              "25%           -1.039442e+08  0.000000e+00  \n",
              "50%           -9.030612e+07  0.000000e+00  \n",
              "75%           -7.956250e+07  0.000000e+00  \n",
              "max           -7.019000e+01  1.000000e+00  \n",
              "std            2.742354e+15  7.546503e-02  "
            ],
            "text/html": [
              "\n",
              "  <div id=\"df-eda597b1-749c-42c2-b0e4-82faa987d51c\" class=\"colab-df-container\">\n",
              "    <div>\n",
              "<style scoped>\n",
              "    .dataframe tbody tr th:only-of-type {\n",
              "        vertical-align: middle;\n",
              "    }\n",
              "\n",
              "    .dataframe tbody tr th {\n",
              "        vertical-align: top;\n",
              "    }\n",
              "\n",
              "    .dataframe thead th {\n",
              "        text-align: right;\n",
              "    }\n",
              "</style>\n",
              "<table border=\"1\" class=\"dataframe\">\n",
              "  <thead>\n",
              "    <tr style=\"text-align: right;\">\n",
              "      <th></th>\n",
              "      <th>Fecha Transaccion</th>\n",
              "      <th>Numero Tarjeta</th>\n",
              "      <th>Importe</th>\n",
              "      <th>Codigo Postal</th>\n",
              "      <th>Latitud</th>\n",
              "      <th>Longitud</th>\n",
              "      <th>Ciudad POP</th>\n",
              "      <th>Fecha de nacimiento</th>\n",
              "      <th>Latitud del mercado</th>\n",
              "      <th>Longitud del mercado</th>\n",
              "      <th>Fraude</th>\n",
              "    </tr>\n",
              "  </thead>\n",
              "  <tbody>\n",
              "    <tr>\n",
              "      <th>count</th>\n",
              "      <td>1048575</td>\n",
              "      <td>1.048575e+06</td>\n",
              "      <td>1.048575e+06</td>\n",
              "      <td>1.048575e+06</td>\n",
              "      <td>1.048575e+06</td>\n",
              "      <td>1.048575e+06</td>\n",
              "      <td>1.048575e+06</td>\n",
              "      <td>1048575</td>\n",
              "      <td>1.048575e+06</td>\n",
              "      <td>1.048575e+06</td>\n",
              "      <td>1.048575e+06</td>\n",
              "    </tr>\n",
              "    <tr>\n",
              "      <th>mean</th>\n",
              "      <td>2019-08-14 03:47:51.826506496</td>\n",
              "      <td>4.171565e+17</td>\n",
              "      <td>7.027910e+01</td>\n",
              "      <td>4.880159e+04</td>\n",
              "      <td>4.049055e+14</td>\n",
              "      <td>-1.223698e+14</td>\n",
              "      <td>8.905776e+04</td>\n",
              "      <td>1973-09-23 10:23:35.157141776</td>\n",
              "      <td>4.730170e+15</td>\n",
              "      <td>-1.015528e+15</td>\n",
              "      <td>5.727773e-03</td>\n",
              "    </tr>\n",
              "    <tr>\n",
              "      <th>min</th>\n",
              "      <td>2019-01-01 00:00:18</td>\n",
              "      <td>6.041621e+10</td>\n",
              "      <td>1.000000e+00</td>\n",
              "      <td>1.257000e+03</td>\n",
              "      <td>2.806000e+01</td>\n",
              "      <td>-8.864400e+15</td>\n",
              "      <td>2.300000e+01</td>\n",
              "      <td>1924-10-30 00:00:00</td>\n",
              "      <td>2.758000e+01</td>\n",
              "      <td>-1.666256e+16</td>\n",
              "      <td>0.000000e+00</td>\n",
              "    </tr>\n",
              "    <tr>\n",
              "      <th>25%</th>\n",
              "      <td>2019-05-10 20:39:13</td>\n",
              "      <td>1.800400e+14</td>\n",
              "      <td>9.640000e+00</td>\n",
              "      <td>2.623700e+04</td>\n",
              "      <td>3.354940e+05</td>\n",
              "      <td>-9.640920e+05</td>\n",
              "      <td>7.430000e+02</td>\n",
              "      <td>1962-08-13 00:00:00</td>\n",
              "      <td>3.431190e+07</td>\n",
              "      <td>-1.039442e+08</td>\n",
              "      <td>0.000000e+00</td>\n",
              "    </tr>\n",
              "    <tr>\n",
              "      <th>50%</th>\n",
              "      <td>2019-08-13 23:45:21</td>\n",
              "      <td>3.520550e+15</td>\n",
              "      <td>4.745000e+01</td>\n",
              "      <td>4.817400e+04</td>\n",
              "      <td>3.889380e+05</td>\n",
              "      <td>-8.625550e+05</td>\n",
              "      <td>2.456000e+03</td>\n",
              "      <td>1975-10-11 00:00:00</td>\n",
              "      <td>3.984329e+07</td>\n",
              "      <td>-9.030612e+07</td>\n",
              "      <td>0.000000e+00</td>\n",
              "    </tr>\n",
              "    <tr>\n",
              "      <th>75%</th>\n",
              "      <td>2019-12-01 12:46:52</td>\n",
              "      <td>4.642255e+15</td>\n",
              "      <td>8.305000e+01</td>\n",
              "      <td>7.204200e+04</td>\n",
              "      <td>4.166110e+05</td>\n",
              "      <td>-7.808920e+05</td>\n",
              "      <td>2.032800e+04</td>\n",
              "      <td>1987-02-14 00:00:00</td>\n",
              "      <td>4.349941e+07</td>\n",
              "      <td>-7.956250e+07</td>\n",
              "      <td>0.000000e+00</td>\n",
              "    </tr>\n",
              "    <tr>\n",
              "      <th>max</th>\n",
              "      <td>2020-03-10 16:08:50</td>\n",
              "      <td>4.992346e+18</td>\n",
              "      <td>2.894890e+04</td>\n",
              "      <td>9.978300e+04</td>\n",
              "      <td>4.319600e+16</td>\n",
              "      <td>-7.310000e+01</td>\n",
              "      <td>2.906700e+06</td>\n",
              "      <td>2005-01-29 00:00:00</td>\n",
              "      <td>6.398484e+16</td>\n",
              "      <td>-7.019000e+01</td>\n",
              "      <td>1.000000e+00</td>\n",
              "    </tr>\n",
              "    <tr>\n",
              "      <th>std</th>\n",
              "      <td>NaN</td>\n",
              "      <td>1.308811e+18</td>\n",
              "      <td>1.599518e+02</td>\n",
              "      <td>2.689804e+04</td>\n",
              "      <td>3.809092e+15</td>\n",
              "      <td>9.947765e+14</td>\n",
              "      <td>3.024351e+05</td>\n",
              "      <td>NaN</td>\n",
              "      <td>1.246257e+16</td>\n",
              "      <td>2.742354e+15</td>\n",
              "      <td>7.546503e-02</td>\n",
              "    </tr>\n",
              "  </tbody>\n",
              "</table>\n",
              "</div>\n",
              "    <div class=\"colab-df-buttons\">\n",
              "\n",
              "  <div class=\"colab-df-container\">\n",
              "    <button class=\"colab-df-convert\" onclick=\"convertToInteractive('df-eda597b1-749c-42c2-b0e4-82faa987d51c')\"\n",
              "            title=\"Convert this dataframe to an interactive table.\"\n",
              "            style=\"display:none;\">\n",
              "\n",
              "  <svg xmlns=\"http://www.w3.org/2000/svg\" height=\"24px\" viewBox=\"0 -960 960 960\">\n",
              "    <path d=\"M120-120v-720h720v720H120Zm60-500h600v-160H180v160Zm220 220h160v-160H400v160Zm0 220h160v-160H400v160ZM180-400h160v-160H180v160Zm440 0h160v-160H620v160ZM180-180h160v-160H180v160Zm440 0h160v-160H620v160Z\"/>\n",
              "  </svg>\n",
              "    </button>\n",
              "\n",
              "  <style>\n",
              "    .colab-df-container {\n",
              "      display:flex;\n",
              "      gap: 12px;\n",
              "    }\n",
              "\n",
              "    .colab-df-convert {\n",
              "      background-color: #E8F0FE;\n",
              "      border: none;\n",
              "      border-radius: 50%;\n",
              "      cursor: pointer;\n",
              "      display: none;\n",
              "      fill: #1967D2;\n",
              "      height: 32px;\n",
              "      padding: 0 0 0 0;\n",
              "      width: 32px;\n",
              "    }\n",
              "\n",
              "    .colab-df-convert:hover {\n",
              "      background-color: #E2EBFA;\n",
              "      box-shadow: 0px 1px 2px rgba(60, 64, 67, 0.3), 0px 1px 3px 1px rgba(60, 64, 67, 0.15);\n",
              "      fill: #174EA6;\n",
              "    }\n",
              "\n",
              "    .colab-df-buttons div {\n",
              "      margin-bottom: 4px;\n",
              "    }\n",
              "\n",
              "    [theme=dark] .colab-df-convert {\n",
              "      background-color: #3B4455;\n",
              "      fill: #D2E3FC;\n",
              "    }\n",
              "\n",
              "    [theme=dark] .colab-df-convert:hover {\n",
              "      background-color: #434B5C;\n",
              "      box-shadow: 0px 1px 3px 1px rgba(0, 0, 0, 0.15);\n",
              "      filter: drop-shadow(0px 1px 2px rgba(0, 0, 0, 0.3));\n",
              "      fill: #FFFFFF;\n",
              "    }\n",
              "  </style>\n",
              "\n",
              "    <script>\n",
              "      const buttonEl =\n",
              "        document.querySelector('#df-eda597b1-749c-42c2-b0e4-82faa987d51c button.colab-df-convert');\n",
              "      buttonEl.style.display =\n",
              "        google.colab.kernel.accessAllowed ? 'block' : 'none';\n",
              "\n",
              "      async function convertToInteractive(key) {\n",
              "        const element = document.querySelector('#df-eda597b1-749c-42c2-b0e4-82faa987d51c');\n",
              "        const dataTable =\n",
              "          await google.colab.kernel.invokeFunction('convertToInteractive',\n",
              "                                                    [key], {});\n",
              "        if (!dataTable) return;\n",
              "\n",
              "        const docLinkHtml = 'Like what you see? Visit the ' +\n",
              "          '<a target=\"_blank\" href=https://colab.research.google.com/notebooks/data_table.ipynb>data table notebook</a>'\n",
              "          + ' to learn more about interactive tables.';\n",
              "        element.innerHTML = '';\n",
              "        dataTable['output_type'] = 'display_data';\n",
              "        await google.colab.output.renderOutput(dataTable, element);\n",
              "        const docLink = document.createElement('div');\n",
              "        docLink.innerHTML = docLinkHtml;\n",
              "        element.appendChild(docLink);\n",
              "      }\n",
              "    </script>\n",
              "  </div>\n",
              "\n",
              "\n",
              "<div id=\"df-f54e369d-7b6c-4e02-8de7-267533c715e3\">\n",
              "  <button class=\"colab-df-quickchart\" onclick=\"quickchart('df-f54e369d-7b6c-4e02-8de7-267533c715e3')\"\n",
              "            title=\"Suggest charts\"\n",
              "            style=\"display:none;\">\n",
              "\n",
              "<svg xmlns=\"http://www.w3.org/2000/svg\" height=\"24px\"viewBox=\"0 0 24 24\"\n",
              "     width=\"24px\">\n",
              "    <g>\n",
              "        <path d=\"M19 3H5c-1.1 0-2 .9-2 2v14c0 1.1.9 2 2 2h14c1.1 0 2-.9 2-2V5c0-1.1-.9-2-2-2zM9 17H7v-7h2v7zm4 0h-2V7h2v10zm4 0h-2v-4h2v4z\"/>\n",
              "    </g>\n",
              "</svg>\n",
              "  </button>\n",
              "\n",
              "<style>\n",
              "  .colab-df-quickchart {\n",
              "      --bg-color: #E8F0FE;\n",
              "      --fill-color: #1967D2;\n",
              "      --hover-bg-color: #E2EBFA;\n",
              "      --hover-fill-color: #174EA6;\n",
              "      --disabled-fill-color: #AAA;\n",
              "      --disabled-bg-color: #DDD;\n",
              "  }\n",
              "\n",
              "  [theme=dark] .colab-df-quickchart {\n",
              "      --bg-color: #3B4455;\n",
              "      --fill-color: #D2E3FC;\n",
              "      --hover-bg-color: #434B5C;\n",
              "      --hover-fill-color: #FFFFFF;\n",
              "      --disabled-bg-color: #3B4455;\n",
              "      --disabled-fill-color: #666;\n",
              "  }\n",
              "\n",
              "  .colab-df-quickchart {\n",
              "    background-color: var(--bg-color);\n",
              "    border: none;\n",
              "    border-radius: 50%;\n",
              "    cursor: pointer;\n",
              "    display: none;\n",
              "    fill: var(--fill-color);\n",
              "    height: 32px;\n",
              "    padding: 0;\n",
              "    width: 32px;\n",
              "  }\n",
              "\n",
              "  .colab-df-quickchart:hover {\n",
              "    background-color: var(--hover-bg-color);\n",
              "    box-shadow: 0 1px 2px rgba(60, 64, 67, 0.3), 0 1px 3px 1px rgba(60, 64, 67, 0.15);\n",
              "    fill: var(--button-hover-fill-color);\n",
              "  }\n",
              "\n",
              "  .colab-df-quickchart-complete:disabled,\n",
              "  .colab-df-quickchart-complete:disabled:hover {\n",
              "    background-color: var(--disabled-bg-color);\n",
              "    fill: var(--disabled-fill-color);\n",
              "    box-shadow: none;\n",
              "  }\n",
              "\n",
              "  .colab-df-spinner {\n",
              "    border: 2px solid var(--fill-color);\n",
              "    border-color: transparent;\n",
              "    border-bottom-color: var(--fill-color);\n",
              "    animation:\n",
              "      spin 1s steps(1) infinite;\n",
              "  }\n",
              "\n",
              "  @keyframes spin {\n",
              "    0% {\n",
              "      border-color: transparent;\n",
              "      border-bottom-color: var(--fill-color);\n",
              "      border-left-color: var(--fill-color);\n",
              "    }\n",
              "    20% {\n",
              "      border-color: transparent;\n",
              "      border-left-color: var(--fill-color);\n",
              "      border-top-color: var(--fill-color);\n",
              "    }\n",
              "    30% {\n",
              "      border-color: transparent;\n",
              "      border-left-color: var(--fill-color);\n",
              "      border-top-color: var(--fill-color);\n",
              "      border-right-color: var(--fill-color);\n",
              "    }\n",
              "    40% {\n",
              "      border-color: transparent;\n",
              "      border-right-color: var(--fill-color);\n",
              "      border-top-color: var(--fill-color);\n",
              "    }\n",
              "    60% {\n",
              "      border-color: transparent;\n",
              "      border-right-color: var(--fill-color);\n",
              "    }\n",
              "    80% {\n",
              "      border-color: transparent;\n",
              "      border-right-color: var(--fill-color);\n",
              "      border-bottom-color: var(--fill-color);\n",
              "    }\n",
              "    90% {\n",
              "      border-color: transparent;\n",
              "      border-bottom-color: var(--fill-color);\n",
              "    }\n",
              "  }\n",
              "</style>\n",
              "\n",
              "  <script>\n",
              "    async function quickchart(key) {\n",
              "      const quickchartButtonEl =\n",
              "        document.querySelector('#' + key + ' button');\n",
              "      quickchartButtonEl.disabled = true;  // To prevent multiple clicks.\n",
              "      quickchartButtonEl.classList.add('colab-df-spinner');\n",
              "      try {\n",
              "        const charts = await google.colab.kernel.invokeFunction(\n",
              "            'suggestCharts', [key], {});\n",
              "      } catch (error) {\n",
              "        console.error('Error during call to suggestCharts:', error);\n",
              "      }\n",
              "      quickchartButtonEl.classList.remove('colab-df-spinner');\n",
              "      quickchartButtonEl.classList.add('colab-df-quickchart-complete');\n",
              "    }\n",
              "    (() => {\n",
              "      let quickchartButtonEl =\n",
              "        document.querySelector('#df-f54e369d-7b6c-4e02-8de7-267533c715e3 button');\n",
              "      quickchartButtonEl.style.display =\n",
              "        google.colab.kernel.accessAllowed ? 'block' : 'none';\n",
              "    })();\n",
              "  </script>\n",
              "</div>\n",
              "\n",
              "    </div>\n",
              "  </div>\n"
            ],
            "application/vnd.google.colaboratory.intrinsic+json": {
              "type": "dataframe",
              "summary": "{\n  \"name\": \"df\",\n  \"rows\": 8,\n  \"fields\": [\n    {\n      \"column\": \"Fecha Transaccion\",\n      \"properties\": {\n        \"dtype\": \"date\",\n        \"min\": \"1970-01-01 00:00:00.001048575\",\n        \"max\": \"2020-03-10 16:08:50\",\n        \"num_unique_values\": 7,\n        \"samples\": [\n          \"1048575\",\n          \"2019-08-14 03:47:51.826506496\",\n          \"2019-12-01 12:46:52\"\n        ],\n        \"semantic_type\": \"\",\n        \"description\": \"\"\n      }\n    },\n    {\n      \"column\": \"Numero Tarjeta\",\n      \"properties\": {\n        \"dtype\": \"number\",\n        \"std\": 1.7384136195235297e+18,\n        \"min\": 1048575.0,\n        \"max\": 4.99234639806515e+18,\n        \"num_unique_values\": 8,\n        \"samples\": [\n          4.171564504975697e+17,\n          4642255475285940.0,\n          1048575.0\n        ],\n        \"semantic_type\": \"\",\n        \"description\": \"\"\n      }\n    },\n    {\n      \"column\": \"Importe\",\n      \"properties\": {\n        \"dtype\": \"number\",\n        \"std\": 369384.68765430874,\n        \"min\": 1.0,\n        \"max\": 1048575.0,\n        \"num_unique_values\": 8,\n        \"samples\": [\n          70.27909503850466,\n          83.05,\n          1048575.0\n        ],\n        \"semantic_type\": \"\",\n        \"description\": \"\"\n      }\n    },\n    {\n      \"column\": \"Codigo Postal\",\n      \"properties\": {\n        \"dtype\": \"number\",\n        \"std\": 355679.17277574015,\n        \"min\": 1257.0,\n        \"max\": 1048575.0,\n        \"num_unique_values\": 8,\n        \"samples\": [\n          48801.59060439168,\n          72042.0,\n          1048575.0\n        ],\n        \"semantic_type\": \"\",\n        \"description\": \"\"\n      }\n    },\n    {\n      \"column\": \"Latitud\",\n      \"properties\": {\n        \"dtype\": \"number\",\n        \"std\": 1.5116708184840212e+16,\n        \"min\": 28.06,\n        \"max\": 4.3196e+16,\n        \"num_unique_values\": 8,\n        \"samples\": [\n          404905516975486.9,\n          416611.0,\n          1048575.0\n        ],\n        \"semantic_type\": \"\",\n        \"description\": \"\"\n      }\n    },\n    {\n      \"column\": \"Longitud\",\n      \"properties\": {\n        \"dtype\": \"number\",\n        \"std\": 3198172413887789.0,\n        \"min\": -8864399999999990.0,\n        \"max\": 994776536077725.4,\n        \"num_unique_values\": 8,\n        \"samples\": [\n          -122369810024434.95,\n          -780892.0,\n          1048575.0\n        ],\n        \"semantic_type\": \"\",\n        \"description\": \"\"\n      }\n    },\n    {\n      \"column\": \"Ciudad POP\",\n      \"properties\": {\n        \"dtype\": \"number\",\n        \"std\": 1018456.3076326766,\n        \"min\": 23.0,\n        \"max\": 2906700.0,\n        \"num_unique_values\": 8,\n        \"samples\": [\n          89057.75906349093,\n          20328.0,\n          1048575.0\n        ],\n        \"semantic_type\": \"\",\n        \"description\": \"\"\n      }\n    },\n    {\n      \"column\": \"Fecha de nacimiento\",\n      \"properties\": {\n        \"dtype\": \"date\",\n        \"min\": \"1924-10-30 00:00:00\",\n        \"max\": \"2005-01-29 00:00:00\",\n        \"num_unique_values\": 7,\n        \"samples\": [\n          \"1048575\",\n          \"1973-09-23 10:23:35.157141776\",\n          \"1987-02-14 00:00:00\"\n        ],\n        \"semantic_type\": \"\",\n        \"description\": \"\"\n      }\n    },\n    {\n      \"column\": \"Latitud del mercado\",\n      \"properties\": {\n        \"dtype\": \"number\",\n        \"std\": 2.2194030597665424e+16,\n        \"min\": 27.58,\n        \"max\": 6.398484e+16,\n        \"num_unique_values\": 8,\n        \"samples\": [\n          4730170270056059.0,\n          43499413.0,\n          1048575.0\n        ],\n        \"semantic_type\": \"\",\n        \"description\": \"\"\n      }\n    },\n    {\n      \"column\": \"Longitud del mercado\",\n      \"properties\": {\n        \"dtype\": \"number\",\n        \"std\": 6074634536661434.0,\n        \"min\": -1.66625634e+16,\n        \"max\": 2742354358288536.5,\n        \"num_unique_values\": 8,\n        \"samples\": [\n          -1015527521604552.0,\n          -79562503.5,\n          1048575.0\n        ],\n        \"semantic_type\": \"\",\n        \"description\": \"\"\n      }\n    },\n    {\n      \"column\": \"Fraude\",\n      \"properties\": {\n        \"dtype\": \"number\",\n        \"std\": 370727.1919330203,\n        \"min\": 0.0,\n        \"max\": 1048575.0,\n        \"num_unique_values\": 5,\n        \"samples\": [\n          0.005727773406766326,\n          0.07546503461765029,\n          0.0\n        ],\n        \"semantic_type\": \"\",\n        \"description\": \"\"\n      }\n    }\n  ]\n}"
            }
          },
          "metadata": {},
          "execution_count": 11
        }
      ]
    },
    {
      "cell_type": "code",
      "source": [
        "# Valores de la Columna \"Importe\"\n",
        "df.Importe.unique()"
      ],
      "metadata": {
        "colab": {
          "base_uri": "https://localhost:8080/"
        },
        "id": "sIAYRSTeXHDu",
        "outputId": "2be3df5b-4371-4cf4-e1c6-283b60e3cd9a"
      },
      "execution_count": null,
      "outputs": [
        {
          "output_type": "execute_result",
          "data": {
            "text/plain": [
              "array([   4.97,  107.23,  220.11, ...,  565.41, 4248.63,  271.38])"
            ]
          },
          "metadata": {},
          "execution_count": 12
        }
      ]
    },
    {
      "cell_type": "code",
      "source": [
        "# Valores de la Columna \"Fraude\"\n",
        "df.Fraude.unique()"
      ],
      "metadata": {
        "colab": {
          "base_uri": "https://localhost:8080/"
        },
        "id": "yex5-Qc4co_o",
        "outputId": "87643c4c-3544-407f-d126-90973578fd2a"
      },
      "execution_count": null,
      "outputs": [
        {
          "output_type": "execute_result",
          "data": {
            "text/plain": [
              "array([0, 1])"
            ]
          },
          "metadata": {},
          "execution_count": 13
        }
      ]
    },
    {
      "cell_type": "code",
      "source": [
        "# Valores de la Columna \"Genero\"\n",
        "df.Genero.unique()"
      ],
      "metadata": {
        "colab": {
          "base_uri": "https://localhost:8080/"
        },
        "id": "cdDJtiG-c5yt",
        "outputId": "93168e0c-8ecb-4aaa-d21d-cc79c42f0003"
      },
      "execution_count": null,
      "outputs": [
        {
          "output_type": "execute_result",
          "data": {
            "text/plain": [
              "array(['F', 'M'], dtype=object)"
            ]
          },
          "metadata": {},
          "execution_count": 14
        }
      ]
    },
    {
      "cell_type": "code",
      "source": [
        "# Valores de la Columna \"Numero de transaccion\"\n",
        "df['Numero de transaccion'].unique()"
      ],
      "metadata": {
        "colab": {
          "base_uri": "https://localhost:8080/"
        },
        "id": "yZac811-dKr2",
        "outputId": "5c18629a-485a-4bb2-f3fc-6c4dd7298ce4"
      },
      "execution_count": null,
      "outputs": [
        {
          "output_type": "execute_result",
          "data": {
            "text/plain": [
              "array(['0b242abb623afc578575680df30655b9',\n",
              "       '1f76529f8574734946361c461b024d99',\n",
              "       'a1a22d70485983eac12b5b88dad1cf95', ...,\n",
              "       '17c9dc8b2a6449ca2473726346e58e6c',\n",
              "       '5ca650881b48a6a38754f841c23b77ab',\n",
              "       '8d0a575fe635bbde12f1a2bffc126731'], dtype=object)"
            ]
          },
          "metadata": {},
          "execution_count": 15
        }
      ]
    },
    {
      "cell_type": "markdown",
      "source": [
        "# Hipotesis"
      ],
      "metadata": {
        "id": "ht5xnQsEeNwb"
      }
    },
    {
      "cell_type": "markdown",
      "source": [
        "Las hipotesis planteadas son:\n",
        "\n",
        "\n",
        "\n",
        "1.   Los hombres de Washington son los que cometen mas fraudes\n",
        "2.   Los que trabajan en Accounting technician son los que mas fraudes cometen\n",
        "3.   Los comercios de categoria shopping_pos son los que sufren mas cantidad de fraudes\n",
        "\n",
        "\n"
      ],
      "metadata": {
        "id": "unROn3bOeRav"
      }
    },
    {
      "cell_type": "markdown",
      "source": [
        "Primera Hipotesis:\n",
        "Los hombres de Washington son los que cometen mas fraudes"
      ],
      "metadata": {
        "id": "rDJkIsrNfHLF"
      }
    },
    {
      "cell_type": "code",
      "source": [
        "# Filtro por cantidad de fraudes por Masculinos\n",
        "Fraude_Masculino = df[(df['Genero'] == 'M') & (df['Fraude'] == 1)]\n",
        "\n",
        "# Cantidad de Fraudes por ciudad\n",
        "Cantidad_Fraudes_Ciudad = Fraude_Masculino.groupby('Ciudad')['Fraude'].sum().sort_values(ascending=False)\n",
        "\n",
        "# Top 5 Ciudades\n",
        "top_5_ciudades = Cantidad_Fraudes_Ciudad.head(5)\n",
        "\n",
        "# Create bar plot\n",
        "plt.figure(figsize=(10, 6))\n",
        "sns.barplot(x=top_5_ciudades.index, y=top_5_ciudades.values)\n",
        "plt.title('Top 5 ciudad con mayor cantidad de fraudes por Masculinos')\n",
        "plt.xlabel('Ciudad')\n",
        "plt.ylabel('Cantidad de fraudes')\n",
        "plt.xticks(rotation=45, ha='right')\n",
        "plt.show()"
      ],
      "metadata": {
        "colab": {
          "base_uri": "https://localhost:8080/",
          "height": 609
        },
        "id": "LDDgm72rbhV0",
        "outputId": "a4bce540-7a00-460c-c013-f2572fc89844"
      },
      "execution_count": null,
      "outputs": [
        {
          "output_type": "display_data",
          "data": {
            "text/plain": [
              "<Figure size 1000x600 with 1 Axes>"
            ],
            "image/png": "[encoded data removed]"
          },
          "metadata": {}
        }
      ]
    },
    {
      "cell_type": "code",
      "source": [
        "# Filtro el DataFrame por masculinos que cometieron fraudes en Washington\n",
        "washington_m_fraude = df[(df['Genero'] == 'M') & (df['Estado'] == 'WA') & (df['Fraude'] == 1)]\n",
        "\n",
        "# Cantidad de masculinos que cometieron fraude en Washington\n",
        "num_washington_m_fraude = len(washington_m_fraude)\n",
        "\n",
        "print(f\"Cantidad de masculinos que cometieron fraude en Washington: {num_washington_m_fraude}\")"
      ],
      "metadata": {
        "colab": {
          "base_uri": "https://localhost:8080/"
        },
        "id": "qotu0RYldsYl",
        "outputId": "7bac63f4-ae7a-4eaf-b39b-97392afa79f5"
      },
      "execution_count": null,
      "outputs": [
        {
          "output_type": "stream",
          "name": "stdout",
          "text": [
            "Cantidad de masculinos que cometieron fraude en Washington: 15\n"
          ]
        }
      ]
    },
    {
      "cell_type": "code",
      "source": [
        "# Filtro el DataFrame por femeninos que cometieron fraudes en Washington\n",
        "washington_f_fraude = df[(df['Genero'] == 'F') & (df['Estado'] == 'WA') & (df['Fraude'] == 1)]\n",
        "\n",
        "# Cantidad de femeninos que cometieron fraude en Washington\n",
        "num_washington_f_fraude = len(washington_f_fraude)\n",
        "\n",
        "print(f\"Cantidad de femeninos que cometieron fraude en Washington: {num_washington_f_fraude}\")"
      ],
      "metadata": {
        "colab": {
          "base_uri": "https://localhost:8080/"
        },
        "id": "n47-8b-1ee1d",
        "outputId": "e145e3e2-db53-4011-d0c6-99c91dd979dd"
      },
      "execution_count": null,
      "outputs": [
        {
          "output_type": "stream",
          "name": "stdout",
          "text": [
            "Cantidad de femeninos que cometieron fraude en Washington: 54\n"
          ]
        }
      ]
    },
    {
      "cell_type": "markdown",
      "source": [
        "Conclusion:\n",
        "Se puede ver a que Washington no entra en el top 5 de ciudades con mayor cantidad de fraudes cometidos por gente del sexo masculino, y es mas en Washigton hay mayor cantidad de freudes cometidos por gente del sexo femenino (54) que masculino (15)\n"
      ],
      "metadata": {
        "id": "TgRqmOGYesWd"
      }
    },
    {
      "cell_type": "markdown",
      "source": [
        "Segunda Hipotesis:\n",
        "Los que trabajan en Accounting technician son los que mas fraudes cometen"
      ],
      "metadata": {
        "id": "BR8ErF6NhJS5"
      }
    },
    {
      "cell_type": "code",
      "source": [
        "# Filtrar el DataFrame para incluir solo las filas donde 'Fraude' es 1\n",
        "fraudes = df[df['Fraude'] == 1]\n",
        "\n",
        "# Obtener la cantidad de filas en el DataFrame filtrado\n",
        "cantidad_fraudes = len(fraudes)\n",
        "\n",
        "# Imprimir la cantidad de fraudes\n",
        "print(f\"Cantidad de fraudes cometidos: {cantidad_fraudes}\")"
      ],
      "metadata": {
        "colab": {
          "base_uri": "https://localhost:8080/"
        },
        "id": "Z-x4nKgKhNZU",
        "outputId": "88477ca4-5847-412d-b215-3df7a4ec37c9"
      },
      "execution_count": null,
      "outputs": [
        {
          "output_type": "stream",
          "name": "stdout",
          "text": [
            "Cantidad de fraudes cometidos: 6006\n"
          ]
        }
      ]
    },
    {
      "cell_type": "code",
      "source": [
        "# Filtrar el DataFrame para incluir solo las filas donde 'Fraude' es 1 y 'Trabajo Cliente' es 'Accounting technician'\n",
        "fraudes_accounting_technician = df[(df['Fraude'] == 1) & (df['Trabajo Cliente'] == 'Accounting technician')]\n",
        "\n",
        "# Obtener la cantidad de filas en el DataFrame filtrado\n",
        "cantidad_fraudes_accounting_technician = len(fraudes_accounting_technician)\n",
        "\n",
        "# Imprimir la cantidad de fraudes\n",
        "print(f\"Cantidad de fraudes cometidos por Accounting technician: {cantidad_fraudes_accounting_technician}\")"
      ],
      "metadata": {
        "colab": {
          "base_uri": "https://localhost:8080/"
        },
        "id": "hcLTBty398cK",
        "outputId": "881a4876-16c9-4da7-893a-7a70cd84b7ce"
      },
      "execution_count": null,
      "outputs": [
        {
          "output_type": "stream",
          "name": "stdout",
          "text": [
            "Cantidad de fraudes cometidos por Accounting technician: 21\n"
          ]
        }
      ]
    },
    {
      "cell_type": "code",
      "source": [
        "import matplotlib.pyplot as plt\n",
        "import seaborn as sns\n",
        "\n",
        "# Filtro el DataFrame para incluir solo las filas donde 'Fraude' es 1\n",
        "fraudes = df[df['Fraude'] == 1]\n",
        "\n",
        "# Agrupo por 'Trabajo Cliente' y contar la cantidad de fraudes\n",
        "trabajo_fraudes = fraudes.groupby('Trabajo Cliente')['Fraude'].count().reset_index()\n",
        "\n",
        "# Ordenar por cantidad de fraudes en orden descendente\n",
        "trabajo_fraudes = trabajo_fraudes.sort_values(by=['Fraude'], ascending=False)\n",
        "\n",
        "# Tomar los 5 trabajos con más fraudes\n",
        "top_5_trabajos = trabajo_fraudes.head(5)\n",
        "\n",
        "# Crear el gráfico de barras\n",
        "plt.figure(figsize=(12, 6))\n",
        "sns.lineplot(x='Trabajo Cliente', y='Fraude', data=top_5_trabajos)\n",
        "plt.title('Top 5 Trabajos de Clientes con Más Fraudes')\n",
        "plt.xlabel('Trabajo Cliente')\n",
        "plt.ylabel('Cantidad de Fraudes')\n",
        "plt.xticks(rotation=45, ha='right')\n",
        "plt.tight_layout()\n",
        "plt.show()"
      ],
      "metadata": {
        "colab": {
          "base_uri": "https://localhost:8080/",
          "height": 607
        },
        "id": "f3p-v80U-YhU",
        "outputId": "0c81be8c-4ad2-4a59-d0cf-0eb14f7b21ef"
      },
      "execution_count": null,
      "outputs": [
        {
          "output_type": "display_data",
          "data": {
            "text/plain": [
              "<Figure size 1200x600 with 1 Axes>"
            ],
            "image/png": "[encoded data removed]"
          },
          "metadata": {}
        }
      ]
    },
    {
      "cell_type": "markdown",
      "source": [
        "Conclusion:\n",
        "\n",
        "Se puede ver que la gente que trabaja de accouting technician no estan ni siquiera dentro del top 5 de los trabajos de clientes que mas fraudes cometen, por lo tanto esta hipotesis es falsa"
      ],
      "metadata": {
        "id": "v0UuVxjmE-ED"
      }
    },
    {
      "cell_type": "markdown",
      "source": [
        "Tercera Hipotesis:\n",
        "Los comercios de categoria shopping_pos son los que sufren mas cantidad de fraudes"
      ],
      "metadata": {
        "id": "5BFYOAsAH6mz"
      }
    },
    {
      "cell_type": "code",
      "source": [
        "# Filtro el DataFrame para incluir solo las filas donde 'Fraude' es 1\n",
        "fraudes = df[df['Fraude'] == 1]\n",
        "\n",
        "# Agrupo por 'Categoria' y contar la cantidad de fraudes\n",
        "categoria_fraudes = fraudes.groupby('Categoria')['Fraude'].count().reset_index()\n",
        "\n",
        "# Ordeno por cantidad de fraudes en orden descendente\n",
        "categoria_fraudes = categoria_fraudes.sort_values(by=['Fraude'], ascending=False)\n",
        "\n",
        "# Tomo las 5 categorías con más fraudes\n",
        "top_5_categorias = categoria_fraudes.head(5)\n",
        "\n",
        "# Creo el gráfico de barras\n",
        "plt.figure(figsize=(12, 6))\n",
        "sns.barplot(x='Categoria', y='Fraude', data=top_5_categorias)\n",
        "plt.title('Top 5 Categorías con Más Fraudes')\n",
        "plt.xlabel('Categoría')\n",
        "plt.ylabel('Cantidad de Fraudes')\n",
        "plt.xticks(rotation=45, ha='right')\n",
        "plt.tight_layout()\n",
        "plt.show()"
      ],
      "metadata": {
        "id": "MyaUa8Q8H8lq",
        "outputId": "86e490cb-f569-4b6f-8791-f5e8a04d48ed",
        "colab": {
          "base_uri": "https://localhost:8080/",
          "height": 607
        }
      },
      "execution_count": null,
      "outputs": [
        {
          "output_type": "display_data",
          "data": {
            "text/plain": [
              "<Figure size 1200x600 with 1 Axes>"
            ],
            "image/png": "[encoded data removed]"
          },
          "metadata": {}
        }
      ]
    },
    {
      "cell_type": "code",
      "source": [
        "# Filtrar el DataFrame para incluir solo las filas donde 'Fraude' es 1 y 'Categoria' es 'shopping_pos'\n",
        "fraudes_shopping_pos = df[(df['Fraude'] == 1) & (df['Categoria'] == 'shopping_pos')]\n",
        "\n",
        "# Obtener la cantidad de filas en el DataFrame filtrado\n",
        "cantidad_fraudes_shopping_pos = len(fraudes_shopping_pos)\n",
        "\n",
        "# Imprimir la cantidad de fraudes\n",
        "print(f\"Cantidad de fraudes que sufrio los comercios de shopping_pos: {cantidad_fraudes_shopping_pos}\")"
      ],
      "metadata": {
        "colab": {
          "base_uri": "https://localhost:8080/"
        },
        "id": "PPDUULaIM5U1",
        "outputId": "d82ca6f2-ceb6-42a7-a45c-e7cef7f6ef41"
      },
      "execution_count": null,
      "outputs": [
        {
          "output_type": "stream",
          "name": "stdout",
          "text": [
            "Cantidad de fraudes que sufrio los comercios de shopping_pos: 662\n"
          ]
        }
      ]
    },
    {
      "cell_type": "code",
      "source": [
        "# Filtrar el DataFrame para incluir solo las filas donde 'Fraude' es 1 y 'Categoria' es 'grocery_pos'\n",
        "fraudes_grocery_pos = df[(df['Fraude'] == 1) & (df['Categoria'] == 'grocery_pos')]\n",
        "\n",
        "# Obtener la cantidad de filas en el DataFrame filtrado\n",
        "cantidad_fraudes_grocery_pos = len(fraudes_grocery_pos)\n",
        "\n",
        "# Imprimir la cantidad de fraudes\n",
        "print(f\"Cantidad de fraudes que sufrio los comercios de grocery_pos: {cantidad_fraudes_grocery_pos}\")"
      ],
      "metadata": {
        "colab": {
          "base_uri": "https://localhost:8080/"
        },
        "id": "abNxwIcINhAa",
        "outputId": "ca95ae52-537a-405a-dee9-74fb162e5f78"
      },
      "execution_count": null,
      "outputs": [
        {
          "output_type": "stream",
          "name": "stdout",
          "text": [
            "Cantidad de fraudes que sufrio los comercios de grocery_pos: 1396\n"
          ]
        }
      ]
    },
    {
      "cell_type": "code",
      "source": [
        "num_categorias = df['Categoria'].nunique()\n",
        "\n",
        "# Imprime el resultado\n",
        "print(f\"Número de categorías : {num_categorias}\")"
      ],
      "metadata": {
        "colab": {
          "base_uri": "https://localhost:8080/"
        },
        "id": "M-mdr6bqOLKz",
        "outputId": "b4fae834-f5b1-464d-91d8-a174d2139e4d"
      },
      "execution_count": null,
      "outputs": [
        {
          "output_type": "stream",
          "name": "stdout",
          "text": [
            "Número de categorías : 14\n"
          ]
        }
      ]
    },
    {
      "cell_type": "markdown",
      "source": [
        "Conclusion:\n",
        "\n",
        "Los comercio de shopping_pos no son los comercios que mas fraudes sufrieron, pero se encuentra dentro del top 5, sufrieron la mitad de los fraudes que los de grocery_pos.\n",
        "Aunque no fueron los que mas cantida de fraudes sufrieron  estan en posicion cuarto dentro de 14 categorias de comercios."
      ],
      "metadata": {
        "id": "-zhrDHFvNyFp"
      }
    }
  ]
}